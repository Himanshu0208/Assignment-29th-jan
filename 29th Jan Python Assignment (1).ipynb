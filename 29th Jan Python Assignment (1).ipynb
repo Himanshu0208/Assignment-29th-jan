{
 "cells": [
  {
   "cell_type": "markdown",
   "id": "ce3ec193-6272-4e50-b50b-2e726ef7a511",
   "metadata": {},
   "source": [
    "## Ques 1\n",
    "Python was created by Guido van Rossum"
   ]
  },
  {
   "cell_type": "markdown",
   "id": "99ec79b1-e2eb-4b30-b577-fe4a743e86e3",
   "metadata": {},
   "source": [
    "## Ques 2\n",
    "Python supports Object-Oriented Prograamming , Functional Programming and Structured Programming"
   ]
  },
  {
   "cell_type": "markdown",
   "id": "c51e044b-310a-4378-9840-47dd39bb8298",
   "metadata": {},
   "source": [
    "## Ques 3\n",
    "Yes, Python is a case sensitive language when dealing with identifiers"
   ]
  },
  {
   "cell_type": "markdown",
   "id": "430bf3c7-ca6d-48c8-ba04-a89c2849c5e1",
   "metadata": {},
   "source": [
    "## Ques 4\n",
    "The Correct extension file for python file is \".py\"\n"
   ]
  },
  {
   "cell_type": "markdown",
   "id": "813c53c1-85a0-4922-875c-1ca32d1882ed",
   "metadata": {},
   "source": [
    "## Ques 5\n",
    "Python is an interpreted Language"
   ]
  },
  {
   "cell_type": "markdown",
   "id": "7586905c-7af3-47e2-abbb-eb32bbe37d62",
   "metadata": {},
   "source": [
    "## Ques 6\n",
    "Indentation is used to define a block of code in python. Braces {} are used to define a block of code in most programming languages, like C, C++, and Java. But this indentation makes python unique among all programming languages"
   ]
  },
  {
   "cell_type": "code",
   "execution_count": 7,
   "id": "12b08413-71cc-4590-8609-68a4cdad2cfc",
   "metadata": {},
   "outputs": [
    {
     "name": "stdin",
     "output_type": "stream",
     "text": [
      "Enter your age 19\n"
     ]
    },
    {
     "name": "stdout",
     "output_type": "stream",
     "text": [
      "Teenager\n"
     ]
    }
   ],
   "source": [
    "# Example :-\n",
    "age = int(input('Enter your age'))\n",
    "if age > 12 and age < 20 :\n",
    "    print('Teenager')\n",
    "\n",
    "# Here the print command with indetation will make it treated as a block of code for if condtion\n"
   ]
  },
  {
   "cell_type": "markdown",
   "id": "7cde8c94-41da-4b75-beaf-75c220d17a58",
   "metadata": {},
   "source": [
    "## Ques 7\n",
    "\"#\" character is used to define single line comments"
   ]
  },
  {
   "cell_type": "markdown",
   "id": "d0d478ba-217d-4398-a935-f412fd7f6b5d",
   "metadata": {},
   "source": [
    "## Ques 8\n",
    "'python_version()' can tell us the current vertion of python which ae are using"
   ]
  },
  {
   "cell_type": "code",
   "execution_count": 4,
   "id": "bc8b2b1e-386c-427f-9b2d-f0b6b4e3f76a",
   "metadata": {},
   "outputs": [
    {
     "name": "stdout",
     "output_type": "stream",
     "text": [
      "The current version of pythonn is  3.10.8\n"
     ]
    }
   ],
   "source": [
    "from platform import python_version\n",
    "\n",
    "print('The current version of pythonn is ' , python_version())"
   ]
  },
  {
   "cell_type": "markdown",
   "id": "28caf653-7403-4be4-86c9-73fee5da4aba",
   "metadata": {},
   "source": [
    "## Ques 9\n",
    "'lambda'"
   ]
  },
  {
   "cell_type": "markdown",
   "id": "144af0dd-061a-4b19-8638-32fa29a1cdb9",
   "metadata": {},
   "source": [
    "## Ques 10\n",
    "pip stands for 'preferred installer program'"
   ]
  },
  {
   "cell_type": "markdown",
   "id": "33ac3d88-53ae-4dbd-bd86-ff75ed4c04e0",
   "metadata": {},
   "source": [
    "## Ques 11\n",
    "few bultin function of python are \n",
    "1. len()\n",
    "2. abs()\n",
    "3. all()\n",
    "4. any()\n",
    "5. chr()\n",
    "6. sorted()"
   ]
  },
  {
   "cell_type": "markdown",
   "id": "21c0c048-866d-4e77-910e-e9c4e52d06d3",
   "metadata": {},
   "source": [
    "## Ques 12\n",
    "The maximum length of identifier allowed in python is '79 characters'"
   ]
  },
  {
   "cell_type": "markdown",
   "id": "b1cbd162-6230-4445-85ab-2b6502738b99",
   "metadata": {},
   "source": [
    "## Ques 13\n",
    "The beifits of using python:-\n",
    "1. Easy language - It doesn't require any of semicolons at the end of each line code for termination and not even curly braceces\n",
    "2. Data Type - It have bulting data type like tuple, Dictonary and sets which are not present in any other language\n",
    "3. Data science - It is very useful in the feild of data science\n",
    "4. Machine Learning - Pyhton gave us enough power, to do machine learning\n",
    "5. System automation and administration"
   ]
  },
  {
   "cell_type": "markdown",
   "id": "46161554-a1c2-412a-86b1-173fa7cc735c",
   "metadata": {},
   "source": [
    "## Ques 14\n",
    "In python if we assign some data to a variable than frst that data get stored in the memmory and then at some other place in the memmory the \n",
    "vaiable name is stored. then that variable name also stored the address in which we earlier stored the data in this way. First the data get\n",
    "stored at some place in the memmory and after that the variable starts pointing/reffrencing the data stored. In this wway the variable stores the data in python. Now if we call the variable the python interpreter first find the variable stored in the memmory and after that\n",
    "it goes to the address where the variable is reffrencing now from that address the interpreter bring us the data which we wanted and put that on places where we had called the variable."
   ]
  },
  {
   "cell_type": "markdown",
   "id": "8f3961c6-1ee0-4cd9-95b3-62387c0b5ca8",
   "metadata": {},
   "source": [
    "## Ques 15\n",
    "To Download python in windows do the following -\n",
    "1. Go to pthon.org\n",
    "2. Now on the home page click teh downloads button\n",
    "3. Now scroll down and then in 'Looking for a specific release?' select the lastest python version\n",
    "4. Now at the end in the files select windows\n",
    "5. click yes and your download will begain\n",
    "\n",
    "To set path of python in windows do the following -\n",
    "1. Right-clicking This PC and going to Properties.\n",
    "2. licking on the Advanced system settings in the menu on the left.\n",
    "3. Clicking on the Environment Variables button on the bottom right.\n",
    "4. In the System variables section, selecting the Path variable and clicking on Edit. The next screen will show all the directories that are currently a part of the PATH variable.\n",
    "5. Clicking on New and entering Python’s install directory."
   ]
  },
  {
   "cell_type": "markdown",
   "id": "ae37866a-133d-429e-aa38-e028e261287b",
   "metadata": {},
   "source": [
    "## Ques 16\n",
    "Yes, Indentation is very important in python. without it the python interpreter will throw an indentation error"
   ]
  },
  {
   "cell_type": "code",
   "execution_count": null,
   "id": "5eea7c94-c2cb-4a57-9982-9c68f4d04617",
   "metadata": {},
   "outputs": [],
   "source": []
  }
 ],
 "metadata": {
  "kernelspec": {
   "display_name": "Python 3 (ipykernel)",
   "language": "python",
   "name": "python3"
  },
  "language_info": {
   "codemirror_mode": {
    "name": "ipython",
    "version": 3
   },
   "file_extension": ".py",
   "mimetype": "text/x-python",
   "name": "python",
   "nbconvert_exporter": "python",
   "pygments_lexer": "ipython3",
   "version": "3.10.8"
  }
 },
 "nbformat": 4,
 "nbformat_minor": 5
}
